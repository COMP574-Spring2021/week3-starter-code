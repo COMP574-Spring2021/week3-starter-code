{
 "cells": [
  {
   "cell_type": "markdown",
   "metadata": {},
   "source": [
    "## World Happiness ##\n",
    "The World Happiness Report is a landmark survey of the state of global happiness. "
   ]
  },
  {
   "cell_type": "code",
   "execution_count": 1,
   "metadata": {},
   "outputs": [],
   "source": [
    "import pandas as pd\n",
    "import numpy as np\n",
    "#np.set_printoptions(precision=2, suppress=True)\n",
    "#pd.options.display.float_format = '${:,.2f}'.format"
   ]
  },
  {
   "source": [
    "Read in data in csv format as a Pandas data frame. A __DataFrame__ is a 2-dimensional labeled data structure with columns of potentially different types. "
   ],
   "cell_type": "markdown",
   "metadata": {}
  },
  {
   "cell_type": "code",
   "execution_count": 2,
   "metadata": {},
   "outputs": [],
   "source": [
    "df = pd.read_csv('happiness_2017.csv')"
   ]
  },
  {
   "cell_type": "code",
   "execution_count": 3,
   "metadata": {},
   "outputs": [
    {
     "output_type": "execute_result",
     "data": {
      "text/plain": [
       "       Country          Region  Rank  HappinessScore  Life Ladder  \\\n",
       "0       Norway  Western Europe     1           7.537     7.578745   \n",
       "1      Denmark  Western Europe     2           7.522     7.593702   \n",
       "2      Iceland  Western Europe     3           7.504     7.476214   \n",
       "3  Switzerland  Western Europe     4           7.494     7.473593   \n",
       "4      Finland  Western Europe     5           7.469     7.788252   \n",
       "\n",
       "   Log GDP per capita  Social support  Healthy life expectancy at birth  \\\n",
       "0           11.081789        0.950128                         71.086586   \n",
       "1           10.748989        0.952100                         71.662498   \n",
       "2           10.760409        0.966753                         72.755981   \n",
       "3           10.955548        0.949661                         73.173759   \n",
       "4           10.612338        0.963826                         71.696960   \n",
       "\n",
       "   Freedom to make life choices  Generosity  Perceptions of corruption  \\\n",
       "0                      0.953017    0.210104                   0.249711   \n",
       "1                      0.955416    0.145387                   0.181148   \n",
       "2                      0.938783    0.235479                   0.726845   \n",
       "3                      0.924997    0.167875                   0.316183   \n",
       "4                      0.962199   -0.012174                   0.192413   \n",
       "\n",
       "   Positive affect  Negative affect  Confidence in national government  \n",
       "0         0.849100         0.202914                           0.717160  \n",
       "1         0.823667         0.205775                           0.572353  \n",
       "2         0.895255         0.148160                           0.365042  \n",
       "3         0.773997         0.195871                           0.819707  \n",
       "4         0.787137         0.176066                           0.597539  "
      ],
      "text/html": "<div>\n<style scoped>\n    .dataframe tbody tr th:only-of-type {\n        vertical-align: middle;\n    }\n\n    .dataframe tbody tr th {\n        vertical-align: top;\n    }\n\n    .dataframe thead th {\n        text-align: right;\n    }\n</style>\n<table border=\"1\" class=\"dataframe\">\n  <thead>\n    <tr style=\"text-align: right;\">\n      <th></th>\n      <th>Country</th>\n      <th>Region</th>\n      <th>Rank</th>\n      <th>HappinessScore</th>\n      <th>Life Ladder</th>\n      <th>Log GDP per capita</th>\n      <th>Social support</th>\n      <th>Healthy life expectancy at birth</th>\n      <th>Freedom to make life choices</th>\n      <th>Generosity</th>\n      <th>Perceptions of corruption</th>\n      <th>Positive affect</th>\n      <th>Negative affect</th>\n      <th>Confidence in national government</th>\n    </tr>\n  </thead>\n  <tbody>\n    <tr>\n      <th>0</th>\n      <td>Norway</td>\n      <td>Western Europe</td>\n      <td>1</td>\n      <td>7.537</td>\n      <td>7.578745</td>\n      <td>11.081789</td>\n      <td>0.950128</td>\n      <td>71.086586</td>\n      <td>0.953017</td>\n      <td>0.210104</td>\n      <td>0.249711</td>\n      <td>0.849100</td>\n      <td>0.202914</td>\n      <td>0.717160</td>\n    </tr>\n    <tr>\n      <th>1</th>\n      <td>Denmark</td>\n      <td>Western Europe</td>\n      <td>2</td>\n      <td>7.522</td>\n      <td>7.593702</td>\n      <td>10.748989</td>\n      <td>0.952100</td>\n      <td>71.662498</td>\n      <td>0.955416</td>\n      <td>0.145387</td>\n      <td>0.181148</td>\n      <td>0.823667</td>\n      <td>0.205775</td>\n      <td>0.572353</td>\n    </tr>\n    <tr>\n      <th>2</th>\n      <td>Iceland</td>\n      <td>Western Europe</td>\n      <td>3</td>\n      <td>7.504</td>\n      <td>7.476214</td>\n      <td>10.760409</td>\n      <td>0.966753</td>\n      <td>72.755981</td>\n      <td>0.938783</td>\n      <td>0.235479</td>\n      <td>0.726845</td>\n      <td>0.895255</td>\n      <td>0.148160</td>\n      <td>0.365042</td>\n    </tr>\n    <tr>\n      <th>3</th>\n      <td>Switzerland</td>\n      <td>Western Europe</td>\n      <td>4</td>\n      <td>7.494</td>\n      <td>7.473593</td>\n      <td>10.955548</td>\n      <td>0.949661</td>\n      <td>73.173759</td>\n      <td>0.924997</td>\n      <td>0.167875</td>\n      <td>0.316183</td>\n      <td>0.773997</td>\n      <td>0.195871</td>\n      <td>0.819707</td>\n    </tr>\n    <tr>\n      <th>4</th>\n      <td>Finland</td>\n      <td>Western Europe</td>\n      <td>5</td>\n      <td>7.469</td>\n      <td>7.788252</td>\n      <td>10.612338</td>\n      <td>0.963826</td>\n      <td>71.696960</td>\n      <td>0.962199</td>\n      <td>-0.012174</td>\n      <td>0.192413</td>\n      <td>0.787137</td>\n      <td>0.176066</td>\n      <td>0.597539</td>\n    </tr>\n  </tbody>\n</table>\n</div>"
     },
     "metadata": {},
     "execution_count": 3
    }
   ],
   "source": [
    "df.head()"
   ]
  },
  {
   "cell_type": "code",
   "execution_count": 4,
   "metadata": {},
   "outputs": [
    {
     "output_type": "stream",
     "name": "stdout",
     "text": [
      "<class 'pandas.core.frame.DataFrame'>\nRangeIndex: 140 entries, 0 to 139\nData columns (total 14 columns):\n #   Column                             Non-Null Count  Dtype  \n---  ------                             --------------  -----  \n 0   Country                            140 non-null    object \n 1   Region                             140 non-null    object \n 2   Rank                               140 non-null    int64  \n 3   HappinessScore                     140 non-null    float64\n 4   Life Ladder                        140 non-null    float64\n 5   Log GDP per capita                 133 non-null    float64\n 6   Social support                     139 non-null    float64\n 7   Healthy life expectancy at birth   140 non-null    float64\n 8   Freedom to make life choices       139 non-null    float64\n 9   Generosity                         132 non-null    float64\n 10  Perceptions of corruption          128 non-null    float64\n 11  Positive affect                    139 non-null    float64\n 12  Negative affect                    139 non-null    float64\n 13  Confidence in national government  127 non-null    float64\ndtypes: float64(11), int64(1), object(2)\nmemory usage: 15.4+ KB\n"
     ]
    }
   ],
   "source": [
    "df.info()"
   ]
  },
  {
   "cell_type": "code",
   "execution_count": 5,
   "metadata": {},
   "outputs": [
    {
     "output_type": "execute_result",
     "data": {
      "text/plain": [
       "(140, 14)"
      ]
     },
     "metadata": {},
     "execution_count": 5
    }
   ],
   "source": [
    "df.shape"
   ]
  },
  {
   "cell_type": "code",
   "execution_count": 6,
   "metadata": {},
   "outputs": [
    {
     "output_type": "execute_result",
     "data": {
      "text/plain": [
       "Index(['Country', 'Region', 'Rank', 'HappinessScore', 'Life Ladder',\n",
       "       'Log GDP per capita', 'Social support',\n",
       "       'Healthy life expectancy at birth', 'Freedom to make life choices',\n",
       "       'Generosity', 'Perceptions of corruption', 'Positive affect',\n",
       "       'Negative affect', 'Confidence in national government'],\n",
       "      dtype='object')"
      ]
     },
     "metadata": {},
     "execution_count": 6
    }
   ],
   "source": [
    "df.columns"
   ]
  },
  {
   "cell_type": "code",
   "execution_count": 7,
   "metadata": {},
   "outputs": [
    {
     "output_type": "execute_result",
     "data": {
      "text/plain": [
       "14"
      ]
     },
     "metadata": {},
     "execution_count": 7
    }
   ],
   "source": [
    "df.columns.size"
   ]
  },
  {
   "cell_type": "code",
   "execution_count": 8,
   "metadata": {},
   "outputs": [],
   "source": [
    "df.rename(columns={'Rank': 'HappinessRank', 'Healthy life expectancy at birth': 'Life expectancy'}, inplace=True)"
   ]
  },
  {
   "cell_type": "code",
   "execution_count": 9,
   "metadata": {},
   "outputs": [
    {
     "output_type": "execute_result",
     "data": {
      "text/plain": [
       "       Country          Region  HappinessRank  HappinessScore  Life Ladder  \\\n",
       "0       Norway  Western Europe              1           7.537     7.578745   \n",
       "1      Denmark  Western Europe              2           7.522     7.593702   \n",
       "2      Iceland  Western Europe              3           7.504     7.476214   \n",
       "3  Switzerland  Western Europe              4           7.494     7.473593   \n",
       "4      Finland  Western Europe              5           7.469     7.788252   \n",
       "\n",
       "   Log GDP per capita  Social support  Life expectancy  \\\n",
       "0           11.081789        0.950128        71.086586   \n",
       "1           10.748989        0.952100        71.662498   \n",
       "2           10.760409        0.966753        72.755981   \n",
       "3           10.955548        0.949661        73.173759   \n",
       "4           10.612338        0.963826        71.696960   \n",
       "\n",
       "   Freedom to make life choices  Generosity  Perceptions of corruption  \\\n",
       "0                      0.953017    0.210104                   0.249711   \n",
       "1                      0.955416    0.145387                   0.181148   \n",
       "2                      0.938783    0.235479                   0.726845   \n",
       "3                      0.924997    0.167875                   0.316183   \n",
       "4                      0.962199   -0.012174                   0.192413   \n",
       "\n",
       "   Positive affect  Negative affect  Confidence in national government  \n",
       "0         0.849100         0.202914                           0.717160  \n",
       "1         0.823667         0.205775                           0.572353  \n",
       "2         0.895255         0.148160                           0.365042  \n",
       "3         0.773997         0.195871                           0.819707  \n",
       "4         0.787137         0.176066                           0.597539  "
      ],
      "text/html": "<div>\n<style scoped>\n    .dataframe tbody tr th:only-of-type {\n        vertical-align: middle;\n    }\n\n    .dataframe tbody tr th {\n        vertical-align: top;\n    }\n\n    .dataframe thead th {\n        text-align: right;\n    }\n</style>\n<table border=\"1\" class=\"dataframe\">\n  <thead>\n    <tr style=\"text-align: right;\">\n      <th></th>\n      <th>Country</th>\n      <th>Region</th>\n      <th>HappinessRank</th>\n      <th>HappinessScore</th>\n      <th>Life Ladder</th>\n      <th>Log GDP per capita</th>\n      <th>Social support</th>\n      <th>Life expectancy</th>\n      <th>Freedom to make life choices</th>\n      <th>Generosity</th>\n      <th>Perceptions of corruption</th>\n      <th>Positive affect</th>\n      <th>Negative affect</th>\n      <th>Confidence in national government</th>\n    </tr>\n  </thead>\n  <tbody>\n    <tr>\n      <th>0</th>\n      <td>Norway</td>\n      <td>Western Europe</td>\n      <td>1</td>\n      <td>7.537</td>\n      <td>7.578745</td>\n      <td>11.081789</td>\n      <td>0.950128</td>\n      <td>71.086586</td>\n      <td>0.953017</td>\n      <td>0.210104</td>\n      <td>0.249711</td>\n      <td>0.849100</td>\n      <td>0.202914</td>\n      <td>0.717160</td>\n    </tr>\n    <tr>\n      <th>1</th>\n      <td>Denmark</td>\n      <td>Western Europe</td>\n      <td>2</td>\n      <td>7.522</td>\n      <td>7.593702</td>\n      <td>10.748989</td>\n      <td>0.952100</td>\n      <td>71.662498</td>\n      <td>0.955416</td>\n      <td>0.145387</td>\n      <td>0.181148</td>\n      <td>0.823667</td>\n      <td>0.205775</td>\n      <td>0.572353</td>\n    </tr>\n    <tr>\n      <th>2</th>\n      <td>Iceland</td>\n      <td>Western Europe</td>\n      <td>3</td>\n      <td>7.504</td>\n      <td>7.476214</td>\n      <td>10.760409</td>\n      <td>0.966753</td>\n      <td>72.755981</td>\n      <td>0.938783</td>\n      <td>0.235479</td>\n      <td>0.726845</td>\n      <td>0.895255</td>\n      <td>0.148160</td>\n      <td>0.365042</td>\n    </tr>\n    <tr>\n      <th>3</th>\n      <td>Switzerland</td>\n      <td>Western Europe</td>\n      <td>4</td>\n      <td>7.494</td>\n      <td>7.473593</td>\n      <td>10.955548</td>\n      <td>0.949661</td>\n      <td>73.173759</td>\n      <td>0.924997</td>\n      <td>0.167875</td>\n      <td>0.316183</td>\n      <td>0.773997</td>\n      <td>0.195871</td>\n      <td>0.819707</td>\n    </tr>\n    <tr>\n      <th>4</th>\n      <td>Finland</td>\n      <td>Western Europe</td>\n      <td>5</td>\n      <td>7.469</td>\n      <td>7.788252</td>\n      <td>10.612338</td>\n      <td>0.963826</td>\n      <td>71.696960</td>\n      <td>0.962199</td>\n      <td>-0.012174</td>\n      <td>0.192413</td>\n      <td>0.787137</td>\n      <td>0.176066</td>\n      <td>0.597539</td>\n    </tr>\n  </tbody>\n</table>\n</div>"
     },
     "metadata": {},
     "execution_count": 9
    }
   ],
   "source": [
    "df.head()"
   ]
  },
  {
   "cell_type": "code",
   "execution_count": 10,
   "metadata": {},
   "outputs": [
    {
     "output_type": "execute_result",
     "data": {
      "text/plain": [
       "RangeIndex(start=0, stop=140, step=1)"
      ]
     },
     "metadata": {},
     "execution_count": 10
    }
   ],
   "source": [
    "df.index"
   ]
  },
  {
   "cell_type": "code",
   "execution_count": 11,
   "metadata": {},
   "outputs": [
    {
     "output_type": "execute_result",
     "data": {
      "text/plain": [
       "Country                               0\n",
       "Region                                0\n",
       "HappinessRank                         0\n",
       "HappinessScore                        0\n",
       "Life Ladder                           0\n",
       "Log GDP per capita                    7\n",
       "Social support                        1\n",
       "Life expectancy                       0\n",
       "Freedom to make life choices          1\n",
       "Generosity                            8\n",
       "Perceptions of corruption            12\n",
       "Positive affect                       1\n",
       "Negative affect                       1\n",
       "Confidence in national government    13\n",
       "dtype: int64"
      ]
     },
     "metadata": {},
     "execution_count": 11
    }
   ],
   "source": [
    "df.isnull().sum()"
   ]
  },
  {
   "source": [
    "Pandas __Series__ is a one-dimensional labeled array capable of holding any data type (integers, strings, floating point numbers, Python objects, etc.). "
   ],
   "cell_type": "markdown",
   "metadata": {}
  },
  {
   "cell_type": "code",
   "execution_count": 12,
   "metadata": {},
   "outputs": [
    {
     "output_type": "execute_result",
     "data": {
      "text/plain": [
       "0      7.537\n",
       "1      7.522\n",
       "2      7.504\n",
       "3      7.494\n",
       "4      7.469\n",
       "       ...  \n",
       "135    3.533\n",
       "136    3.507\n",
       "137    3.495\n",
       "138    3.349\n",
       "139    2.693\n",
       "Name: HappinessScore, Length: 140, dtype: float64"
      ]
     },
     "metadata": {},
     "execution_count": 12
    }
   ],
   "source": [
    "df['HappinessScore']"
   ]
  },
  {
   "cell_type": "code",
   "execution_count": 13,
   "metadata": {},
   "outputs": [
    {
     "output_type": "execute_result",
     "data": {
      "text/plain": [
       "7.537000000000001"
      ]
     },
     "metadata": {},
     "execution_count": 13
    }
   ],
   "source": [
    "max_value = df[\"HappinessScore\"].max()\n",
    "max_value"
   ]
  },
  {
   "cell_type": "code",
   "execution_count": 14,
   "metadata": {},
   "outputs": [
    {
     "output_type": "execute_result",
     "data": {
      "text/plain": [
       "5.3989071428571425"
      ]
     },
     "metadata": {},
     "execution_count": 14
    }
   ],
   "source": [
    "df[\"HappinessScore\"].mean()"
   ]
  },
  {
   "cell_type": "code",
   "execution_count": 15,
   "metadata": {},
   "outputs": [
    {
     "output_type": "execute_result",
     "data": {
      "text/plain": [
       "2"
      ]
     },
     "metadata": {},
     "execution_count": 15
    }
   ],
   "source": [
    "max_index = df[\"Social support\"].idxmax()\n",
    "max_index"
   ]
  },
  {
   "cell_type": "code",
   "execution_count": 16,
   "metadata": {},
   "outputs": [
    {
     "output_type": "execute_result",
     "data": {
      "text/plain": [
       "       HappinessRank  HappinessScore  Life Ladder  Log GDP per capita  \\\n",
       "count       140.0000      140.000000   140.000000          133.000000   \n",
       "mean         70.5000        5.398907     5.491702            9.345615   \n",
       "std          40.5586        1.109750     1.122178            1.184935   \n",
       "min           1.0000        2.693000     2.661718            6.625341   \n",
       "25%          35.7500        4.542500     4.636694            8.545789   \n",
       "50%          70.5000        5.302000     5.586507            9.547693   \n",
       "75%         105.2500        6.212000     6.278276           10.313942   \n",
       "max         140.0000        7.537000     7.788252           11.465231   \n",
       "\n",
       "       Social support  Life expectancy  Freedom to make life choices  \\\n",
       "count      139.000000       140.000000                    139.000000   \n",
       "mean         0.806711        63.440981                      0.777874   \n",
       "std          0.121117         7.595597                      0.127969   \n",
       "min          0.319589        44.386528                      0.427011   \n",
       "25%          0.736748        58.005130                      0.711635   \n",
       "50%          0.828953        65.209110                      0.811671   \n",
       "75%          0.905827        69.062944                      0.878373   \n",
       "max          0.966753        76.536362                      0.985178   \n",
       "\n",
       "       Generosity  Perceptions of corruption  Positive affect  \\\n",
       "count  132.000000                 128.000000       139.000000   \n",
       "mean    -0.011614                   0.735870         0.699412   \n",
       "std      0.161064                   0.179799         0.107246   \n",
       "min     -0.296735                   0.161791         0.420962   \n",
       "25%     -0.141405                   0.681880         0.614203   \n",
       "50%     -0.035203                   0.782116         0.710230   \n",
       "75%      0.098457                   0.857171         0.788236   \n",
       "max      0.628706                   0.954393         0.895255   \n",
       "\n",
       "       Negative affect  Confidence in national government  \n",
       "count       139.000000                         127.000000  \n",
       "mean          0.291164                           0.493701  \n",
       "std           0.091985                           0.198235  \n",
       "min           0.114123                           0.110937  \n",
       "25%           0.219028                           0.333884  \n",
       "50%           0.280323                           0.473544  \n",
       "75%           0.345125                           0.617711  \n",
       "max           0.599335                           0.964690  "
      ],
      "text/html": "<div>\n<style scoped>\n    .dataframe tbody tr th:only-of-type {\n        vertical-align: middle;\n    }\n\n    .dataframe tbody tr th {\n        vertical-align: top;\n    }\n\n    .dataframe thead th {\n        text-align: right;\n    }\n</style>\n<table border=\"1\" class=\"dataframe\">\n  <thead>\n    <tr style=\"text-align: right;\">\n      <th></th>\n      <th>HappinessRank</th>\n      <th>HappinessScore</th>\n      <th>Life Ladder</th>\n      <th>Log GDP per capita</th>\n      <th>Social support</th>\n      <th>Life expectancy</th>\n      <th>Freedom to make life choices</th>\n      <th>Generosity</th>\n      <th>Perceptions of corruption</th>\n      <th>Positive affect</th>\n      <th>Negative affect</th>\n      <th>Confidence in national government</th>\n    </tr>\n  </thead>\n  <tbody>\n    <tr>\n      <th>count</th>\n      <td>140.0000</td>\n      <td>140.000000</td>\n      <td>140.000000</td>\n      <td>133.000000</td>\n      <td>139.000000</td>\n      <td>140.000000</td>\n      <td>139.000000</td>\n      <td>132.000000</td>\n      <td>128.000000</td>\n      <td>139.000000</td>\n      <td>139.000000</td>\n      <td>127.000000</td>\n    </tr>\n    <tr>\n      <th>mean</th>\n      <td>70.5000</td>\n      <td>5.398907</td>\n      <td>5.491702</td>\n      <td>9.345615</td>\n      <td>0.806711</td>\n      <td>63.440981</td>\n      <td>0.777874</td>\n      <td>-0.011614</td>\n      <td>0.735870</td>\n      <td>0.699412</td>\n      <td>0.291164</td>\n      <td>0.493701</td>\n    </tr>\n    <tr>\n      <th>std</th>\n      <td>40.5586</td>\n      <td>1.109750</td>\n      <td>1.122178</td>\n      <td>1.184935</td>\n      <td>0.121117</td>\n      <td>7.595597</td>\n      <td>0.127969</td>\n      <td>0.161064</td>\n      <td>0.179799</td>\n      <td>0.107246</td>\n      <td>0.091985</td>\n      <td>0.198235</td>\n    </tr>\n    <tr>\n      <th>min</th>\n      <td>1.0000</td>\n      <td>2.693000</td>\n      <td>2.661718</td>\n      <td>6.625341</td>\n      <td>0.319589</td>\n      <td>44.386528</td>\n      <td>0.427011</td>\n      <td>-0.296735</td>\n      <td>0.161791</td>\n      <td>0.420962</td>\n      <td>0.114123</td>\n      <td>0.110937</td>\n    </tr>\n    <tr>\n      <th>25%</th>\n      <td>35.7500</td>\n      <td>4.542500</td>\n      <td>4.636694</td>\n      <td>8.545789</td>\n      <td>0.736748</td>\n      <td>58.005130</td>\n      <td>0.711635</td>\n      <td>-0.141405</td>\n      <td>0.681880</td>\n      <td>0.614203</td>\n      <td>0.219028</td>\n      <td>0.333884</td>\n    </tr>\n    <tr>\n      <th>50%</th>\n      <td>70.5000</td>\n      <td>5.302000</td>\n      <td>5.586507</td>\n      <td>9.547693</td>\n      <td>0.828953</td>\n      <td>65.209110</td>\n      <td>0.811671</td>\n      <td>-0.035203</td>\n      <td>0.782116</td>\n      <td>0.710230</td>\n      <td>0.280323</td>\n      <td>0.473544</td>\n    </tr>\n    <tr>\n      <th>75%</th>\n      <td>105.2500</td>\n      <td>6.212000</td>\n      <td>6.278276</td>\n      <td>10.313942</td>\n      <td>0.905827</td>\n      <td>69.062944</td>\n      <td>0.878373</td>\n      <td>0.098457</td>\n      <td>0.857171</td>\n      <td>0.788236</td>\n      <td>0.345125</td>\n      <td>0.617711</td>\n    </tr>\n    <tr>\n      <th>max</th>\n      <td>140.0000</td>\n      <td>7.537000</td>\n      <td>7.788252</td>\n      <td>11.465231</td>\n      <td>0.966753</td>\n      <td>76.536362</td>\n      <td>0.985178</td>\n      <td>0.628706</td>\n      <td>0.954393</td>\n      <td>0.895255</td>\n      <td>0.599335</td>\n      <td>0.964690</td>\n    </tr>\n  </tbody>\n</table>\n</div>"
     },
     "metadata": {},
     "execution_count": 16
    }
   ],
   "source": [
    "df.describe()"
   ]
  },
  {
   "cell_type": "code",
   "execution_count": 17,
   "metadata": {},
   "outputs": [
    {
     "output_type": "execute_result",
     "data": {
      "text/plain": [
       "   Country     Region  HappinessRank  HappinessScore  Life Ladder  \\\n",
       "46   Japan  East Asia             47            5.92     5.910676   \n",
       "\n",
       "    Log GDP per capita  Social support  Life expectancy  \\\n",
       "46           10.568169        0.881961        75.317291   \n",
       "\n",
       "    Freedom to make life choices  Generosity  Perceptions of corruption  \\\n",
       "46                      0.849397   -0.223297                   0.659199   \n",
       "\n",
       "    Positive affect  Negative affect  Confidence in national government  \n",
       "46         0.740388         0.175512                            0.41249  "
      ],
      "text/html": "<div>\n<style scoped>\n    .dataframe tbody tr th:only-of-type {\n        vertical-align: middle;\n    }\n\n    .dataframe tbody tr th {\n        vertical-align: top;\n    }\n\n    .dataframe thead th {\n        text-align: right;\n    }\n</style>\n<table border=\"1\" class=\"dataframe\">\n  <thead>\n    <tr style=\"text-align: right;\">\n      <th></th>\n      <th>Country</th>\n      <th>Region</th>\n      <th>HappinessRank</th>\n      <th>HappinessScore</th>\n      <th>Life Ladder</th>\n      <th>Log GDP per capita</th>\n      <th>Social support</th>\n      <th>Life expectancy</th>\n      <th>Freedom to make life choices</th>\n      <th>Generosity</th>\n      <th>Perceptions of corruption</th>\n      <th>Positive affect</th>\n      <th>Negative affect</th>\n      <th>Confidence in national government</th>\n    </tr>\n  </thead>\n  <tbody>\n    <tr>\n      <th>46</th>\n      <td>Japan</td>\n      <td>East Asia</td>\n      <td>47</td>\n      <td>5.92</td>\n      <td>5.910676</td>\n      <td>10.568169</td>\n      <td>0.881961</td>\n      <td>75.317291</td>\n      <td>0.849397</td>\n      <td>-0.223297</td>\n      <td>0.659199</td>\n      <td>0.740388</td>\n      <td>0.175512</td>\n      <td>0.41249</td>\n    </tr>\n  </tbody>\n</table>\n</div>"
     },
     "metadata": {},
     "execution_count": 17
    }
   ],
   "source": [
    "df.loc[df['Country'] == \"Japan\"]"
   ]
  },
  {
   "cell_type": "code",
   "execution_count": null,
   "metadata": {},
   "outputs": [],
   "source": []
  }
 ],
 "metadata": {
  "kernelspec": {
   "display_name": "Python 3",
   "language": "python",
   "name": "python3"
  },
  "language_info": {
   "codemirror_mode": {
    "name": "ipython",
    "version": 3
   },
   "file_extension": ".py",
   "mimetype": "text/x-python",
   "name": "python",
   "nbconvert_exporter": "python",
   "pygments_lexer": "ipython3",
   "version": "3.8.3-final"
  }
 },
 "nbformat": 4,
 "nbformat_minor": 4
}